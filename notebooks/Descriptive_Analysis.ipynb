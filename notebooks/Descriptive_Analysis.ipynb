{
 "cells": [
  {
   "cell_type": "markdown",
   "id": "aefa1bd7",
   "metadata": {},
   "source": []
  },
  {
   "cell_type": "code",
   "execution_count": 1,
   "id": "ad49789d",
   "metadata": {},
   "outputs": [],
   "source": [
    "import os\n",
    "import sys\n",
    "import pandas as pd\n",
    "import matplotlib.pyplot as plt\n",
    "from textblob import TextBlob"
   ]
  },
  {
   "cell_type": "code",
   "execution_count": 6,
   "id": "ecbf8780",
   "metadata": {},
   "outputs": [
    {
     "name": "stdout",
     "output_type": "stream",
     "text": [
      "c:\\Users\\Belay\\News-Sentiment-Analysis-Stock\n"
     ]
    }
   ],
   "source": [
    "# %%\n",
    "os.chdir(\"..\")  # Go up a directory\n",
    "#print(os.getcwd())\n",
    "\n",
    "# %%\n",
    "print(os.getcwd())"
   ]
  },
  {
   "cell_type": "code",
   "execution_count": null,
   "id": "101541df",
   "metadata": {},
   "outputs": [],
   "source": [
    "\n",
    "def prepare_stock_prediction_data(file_paths: dict, start_date, end_date, target_ticker, target_column: str = 'Close') -> pd.DataFrame:\n",
    "\n",
    "    data_frames = []\n",
    "\n",
    "    for ticker, path in file_paths.items():\n",
    "        if not os.path.isfile(path):\n",
    "            raise FileNotFoundError(f\"{ticker} CSV not found at {path}\")\n",
    "        \n",
    "        try:\n",
    "            df = pd.read_csv(path, parse_dates=['Date'])\n",
    "        except Exception as e:\n",
    "            raise RuntimeError(f\"Failed to read {ticker} CSV: {e}\")\n",
    "        \n",
    "        if 'Date' not in df.columns or target_column not in df.columns:\n",
    "            raise ValueError(f\"{ticker} file must contain 'Date' and '{target_column}' columns\")\n",
    "\n",
    "        df = df[['Date', target_column]].copy()\n",
    "        df.rename(columns={target_column: f\"{ticker}_{target_column}\"}, inplace=True)\n",
    "        data_frames.append(df)\n",
    "\n",
    "    try:\n",
    "        merged_df = data_frames[0]\n",
    "        for df in data_frames[1:]:\n",
    "            merged_df = pd.merge(merged_df, df, on='Date', how='inner')\n",
    "    except Exception as e:\n",
    "        raise RuntimeError(f\"Error merging DataFrames: {e}\")\n",
    "\n",
    "    # Filter by date range\n",
    "    try:\n",
    "        mask = (merged_df['Date'] >= pd.to_datetime(start_date)) & (merged_df['Date'] <= pd.to_datetime(end_date))\n",
    "        merged_df = merged_df.loc[mask].copy()\n",
    "        merged_df.sort_values('Date', inplace=True)\n",
    "        merged_df.reset_index(drop=True, inplace=True)\n",
    "    except Exception as e:\n",
    "        raise ValueError(f\"Date filtering failed: {e}\")\n",
    "\n",
    "    # Drop missing values\n",
    "    merged_df.dropna(inplace=True)\n",
    "\n",
    "    # Create target column: next-day close price for target_ticker\n",
    "    try:\n",
    "        merged_df[f\"{target_ticker}_target\"] = merged_df[f\"{target_ticker}_{target_column}\"].shift(-1)\n",
    "        merged_df.dropna(inplace=True)\n",
    "    except Exception as e:\n",
    "        raise RuntimeError(f\"Failed to create target column: {e}\")\n",
    "\n",
    "    return merged_df\n"
   ]
  },
  {
   "cell_type": "code",
   "execution_count": 20,
   "id": "5e12cd53",
   "metadata": {},
   "outputs": [
    {
     "ename": "TypeError",
     "evalue": "prepare_stock_data() takes from 1 to 3 positional arguments but 4 were given",
     "output_type": "error",
     "traceback": [
      "\u001b[31m---------------------------------------------------------------------------\u001b[39m",
      "\u001b[31mTypeError\u001b[39m                                 Traceback (most recent call last)",
      "\u001b[36mCell\u001b[39m\u001b[36m \u001b[39m\u001b[32mIn[20]\u001b[39m\u001b[32m, line 11\u001b[39m\n\u001b[32m      1\u001b[39m file_paths = {\n\u001b[32m      2\u001b[39m     \u001b[33m'\u001b[39m\u001b[33mAAPL\u001b[39m\u001b[33m'\u001b[39m: \u001b[33m'\u001b[39m\u001b[33mData/AAPL_historical_data.csv\u001b[39m\u001b[33m'\u001b[39m,\n\u001b[32m      3\u001b[39m     \u001b[33m'\u001b[39m\u001b[33mMSFT\u001b[39m\u001b[33m'\u001b[39m: \u001b[33m'\u001b[39m\u001b[33mData/MSFT_historical_data.csv\u001b[39m\u001b[33m'\u001b[39m,\n\u001b[32m   (...)\u001b[39m\u001b[32m      8\u001b[39m     \u001b[33m'\u001b[39m\u001b[33mMETA\u001b[39m\u001b[33m'\u001b[39m: \u001b[33m'\u001b[39m\u001b[33mData/META_historical_data.csv\u001b[39m\u001b[33m'\u001b[39m\n\u001b[32m      9\u001b[39m }\n\u001b[32m---> \u001b[39m\u001b[32m11\u001b[39m df = \u001b[43mprepare_stock_data\u001b[49m\u001b[43m(\u001b[49m\u001b[43mfile_paths\u001b[49m\u001b[43m,\u001b[49m\u001b[43m \u001b[49m\u001b[33;43m'\u001b[39;49m\u001b[33;43m1980-01-01\u001b[39;49m\u001b[33;43m'\u001b[39;49m\u001b[43m,\u001b[49m\u001b[43m \u001b[49m\u001b[33;43m'\u001b[39;49m\u001b[33;43m2024-07-30\u001b[39;49m\u001b[33;43m'\u001b[39;49m\u001b[43m,\u001b[49m\u001b[33;43m'\u001b[39;49m\u001b[33;43mAAPL\u001b[39;49m\u001b[33;43m'\u001b[39;49m\u001b[43m)\u001b[49m\n\u001b[32m     13\u001b[39m \u001b[38;5;66;03m# View the first few rows\u001b[39;00m\n\u001b[32m     14\u001b[39m \u001b[38;5;28mprint\u001b[39m(df.head())\n",
      "\u001b[31mTypeError\u001b[39m: prepare_stock_data() takes from 1 to 3 positional arguments but 4 were given"
     ]
    }
   ],
   "source": [
    "file_paths = {\n",
    "    'AAPL': 'Data/AAPL_historical_data.csv',\n",
    "    'MSFT': 'Data/MSFT_historical_data.csv',\n",
    "    'AMZN': 'Data/AMZN_historical_data.csv',\n",
    "    'GOOG': 'Data/GOOG_historical_data.csv',\n",
    "    'TSLA': 'Data/TSLA_historical_data.csv',\n",
    "    'NVDA': 'Data/NVDA_historical_data.csv',\n",
    "    'META': 'Data/META_historical_data.csv'\n",
    "}\n",
    "\n",
    "df = prepare_stock_data(file_paths, '1980-01-01', '2024-07-30','AAPL')\n",
    "\n",
    "# View the first few rows\n",
    "print(df.head())\n"
   ]
  },
  {
   "cell_type": "code",
   "execution_count": null,
   "id": "d9acafc3",
   "metadata": {},
   "outputs": [],
   "source": []
  }
 ],
 "metadata": {
  "kernelspec": {
   "display_name": ".venv",
   "language": "python",
   "name": "python3"
  },
  "language_info": {
   "codemirror_mode": {
    "name": "ipython",
    "version": 3
   },
   "file_extension": ".py",
   "mimetype": "text/x-python",
   "name": "python",
   "nbconvert_exporter": "python",
   "pygments_lexer": "ipython3",
   "version": "3.11.0"
  }
 },
 "nbformat": 4,
 "nbformat_minor": 5
}
